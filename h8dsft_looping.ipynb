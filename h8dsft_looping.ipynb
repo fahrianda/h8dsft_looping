{
 "cells": [
  {
   "cell_type": "markdown",
   "id": "recent-bangladesh",
   "metadata": {},
   "source": [
    "#### Soal"
   ]
  },
  {
   "cell_type": "markdown",
   "id": "diverse-recycling",
   "metadata": {},
   "source": [
    "Buatlah sebuah list dengan value berupa:\n",
    "\n",
    "```sh\n",
    "numbers = [ 951, 402, 984, 651, 360, 69, 408, 319, 601, 485, 980, 507, 725, 547, 544, 615, 83, 165, 141, 501, 263, 617, 865, 575, 219, 390, 984, 592, 236, 105, 942, 941, 386, 462, 47, 418, 907, 344, 236, 375, 823, 566, 597, 978, 328, 615, 953, 345, 399, 162, 758, 219, 918, 237, 412, 566, 826, 248, 866, 950, 626, 949 ]\n",
    "```\n",
    "\n",
    "Loop dan print semua angka genap dari list angka diatas dengan urutan yang sama. Jangan mencetak angka apa pun yang muncul setelah angka 918.\n",
    "\n",
    "Tampilkan pesan 'Done' setelah looping berakhir."
   ]
  },
  {
   "cell_type": "markdown",
   "id": "informal-ticket",
   "metadata": {},
   "source": [
    "#### Jawaban"
   ]
  },
  {
   "cell_type": "code",
   "execution_count": 4,
   "id": "photographic-organic",
   "metadata": {},
   "outputs": [
    {
     "name": "stdout",
     "output_type": "stream",
     "text": [
      "402\n",
      "360\n",
      "408\n",
      "544\n",
      "390\n",
      "592\n",
      "236\n",
      "386\n",
      "462\n",
      "418\n",
      "344\n",
      "236\n",
      "566\n",
      "328\n",
      "162\n",
      "758\n",
      "412\n",
      "566\n",
      "826\n",
      "248\n",
      "866\n",
      "626\n",
      "Done\n"
     ]
    }
   ],
   "source": [
    "numbers = [951, 402, 984, 651, 360, 69, 408, 319, 601, 485, 980, 507, 725, 547, 544, 615, 83, 165, 141, 501, 263, 617, \n",
    "           865, 575, 219, 390, 984, 592, 236, 105, 942, 941, 386, 462, 47, 418, 907, 344, 236, 375, 823, 566, 597, 978,\n",
    "           328, 615, 953, 345, 399, 162, 758, 219, 918, 237, 412, 566, 826, 248, 866, 950, 626, 949 ]\n",
    "\n",
    "for num in numbers:\n",
    "    if num < 918 :\n",
    "        if num % 2 ==0:\n",
    "            print(num)\n",
    "print(\"Done\")"
   ]
  }
 ],
 "metadata": {
  "kernelspec": {
   "display_name": "Python 3",
   "language": "python",
   "name": "python3"
  },
  "language_info": {
   "codemirror_mode": {
    "name": "ipython",
    "version": 3
   },
   "file_extension": ".py",
   "mimetype": "text/x-python",
   "name": "python",
   "nbconvert_exporter": "python",
   "pygments_lexer": "ipython3",
   "version": "3.7.9"
  }
 },
 "nbformat": 4,
 "nbformat_minor": 5
}
